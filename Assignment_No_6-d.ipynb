{
  "nbformat": 4,
  "nbformat_minor": 0,
  "metadata": {
    "colab": {
      "provenance": []
    },
    "kernelspec": {
      "name": "python3",
      "display_name": "Python 3"
    },
    "language_info": {
      "name": "python"
    }
  },
  "cells": [
    {
      "cell_type": "markdown",
      "source": [
        "**Question No.1.] What are escape characters, and how do you use them ?**\n",
        "\n",
        "**ANS : Escape characters in Python are special characters that are used to represent certain non-printable or special characters within strings.**\n",
        "\n",
        "1.   **\\n: Represents a newline character. It is used to start a new line within a string.**\n",
        "\n",
        "2.   **\\t: Represents a tab character. It is used to insert a horizontal tab within a string.**\n",
        "\n",
        "3.   **\\\\: Represents a backslash character. It is used when you want to include a literal backslash in a string.**\n",
        "\n",
        "4.  **\\r: Represents a carriage return character. It is used to move the cursor to the beginning of the line.**"
      ],
      "metadata": {
        "id": "rifycU0qQUWr"
      }
    },
    {
      "cell_type": "markdown",
      "source": [
        "\n",
        "\n",
        "---\n",
        "\n"
      ],
      "metadata": {
        "id": "qYh32XyoRzzU"
      }
    },
    {
      "cell_type": "markdown",
      "source": [
        "**Question No.2] What do the escape characters n and t stand for?**\n",
        "\n",
        "**ANS :** \n",
        "\n",
        "**\\n: Represents a newline character. It is used to start a new line within a string.**\n",
        "\n",
        "**\\t: Represents a tab character. It is used to insert a horizontal tab within a string.**"
      ],
      "metadata": {
        "id": "MLz_NtM6R12n"
      }
    },
    {
      "cell_type": "markdown",
      "source": [
        "\n",
        "\n",
        "---\n",
        "\n"
      ],
      "metadata": {
        "id": "P64bWNt7Sf7d"
      }
    },
    {
      "cell_type": "markdown",
      "source": [
        "**Question No.3] What is the way to include backslash characters in a string?**\n",
        "\n",
        "**ANS :To include a backslash character in a string, you need to use a double backslash (\\\\).**"
      ],
      "metadata": {
        "id": "dFvYbYsRShRw"
      }
    },
    {
      "cell_type": "markdown",
      "source": [
        "\n",
        "\n",
        "---\n",
        "\n"
      ],
      "metadata": {
        "id": "hwnp4UXiS2i9"
      }
    },
    {
      "cell_type": "markdown",
      "source": [
        "**Question No.4] The string &quot;Howl&#39;s Moving Castle&quot; is a correct value. Why isn&#39;t the single quote character in the\n",
        "word Howl&#39;s not escaped a problem?**\n",
        "\n",
        "**ANS : In Python, strings can be enclosed in either single quotes (') or double quotes (\"). When using single quotes to define a string, you can include double quotes directly within the string without any issues. Similarly, when using double quotes to define a string, you can include single quotes directly within the string without problems.**\n",
        "\n",
        "**In the case of the string \"Howl's Moving Castle\", the string is enclosed in double quotes. Therefore, the single quote within the word \"Howl's\" does not need to be escaped because it is treated as a regular character and not as a delimiter for the string.**"
      ],
      "metadata": {
        "id": "Pi_fOTpAS4Zh"
      }
    },
    {
      "cell_type": "markdown",
      "source": [
        "\n",
        "\n",
        "---\n",
        "\n"
      ],
      "metadata": {
        "id": "6IwZN_VnTq0C"
      }
    },
    {
      "cell_type": "markdown",
      "source": [
        "**Question No.5] How do you write a string of newlines if you don&#39;t want to use the n character?**\n",
        "\n",
        "**ANS : If you want to write a string of newlines without using the \\n character, you can use multiline string literals enclosed in triple quotes\n",
        " (\"\"\" or '''). By pressing the Enter key, you can insert newlines directly within the string.**"
      ],
      "metadata": {
        "id": "KDop1rR3TsUH"
      }
    },
    {
      "cell_type": "markdown",
      "source": [
        "\n",
        "\n",
        "---\n",
        "\n"
      ],
      "metadata": {
        "id": "9kSecDPRUI1F"
      }
    },
    {
      "cell_type": "markdown",
      "source": [
        "**Question No.6]**\n",
        "\n",
        "**6. What are the values of the given expressions?**\n",
        "\n",
        "* **&#39;Hello, world!&#39;[1]** --> 'e'\n",
        "\n",
        "* **&#39;Hello, world!&#39;[0:5]** --> 'Hello'\n",
        "\n",
        "* **&#39;Hello, world!&#39;[:5]** --> 'Hello'\n",
        "\n",
        "* **&#39;Hello, world!&#39;[3:]** --> 'lo, world!'"
      ],
      "metadata": {
        "id": "v9ahgiMSUKGl"
      }
    },
    {
      "cell_type": "markdown",
      "source": [
        "\n",
        "\n",
        "---\n",
        "\n"
      ],
      "metadata": {
        "id": "_anJhY2uV_HN"
      }
    },
    {
      "cell_type": "markdown",
      "source": [
        "**Question No.7] 7. What are the values of the following expressions?**\n",
        "\n",
        "* **&#39;Hello&#39;.upper()** --> 'HELLO'\n",
        "\n",
        "* **&#39;Hello&#39;.upper().isupper()** --> 'True'\n",
        "\n",
        "* **&#39;Hello&#39;.upper().lower()** --> 'hello'"
      ],
      "metadata": {
        "id": "9V-k04j2WK1Z"
      }
    },
    {
      "cell_type": "markdown",
      "source": [
        "\n",
        "\n",
        "---\n",
        "\n"
      ],
      "metadata": {
        "id": "lxavBrXzXtlX"
      }
    },
    {
      "cell_type": "markdown",
      "source": [
        "**8. What are the values of the following expressions?**\n",
        "\n",
        "* **&#39;Remember, remember, the fifth of July.&#39;.split()** --> \n",
        "---> ['Remember,', 'remember,', 'the', 'fifth', 'of', 'July.']\n",
        "\n",
        "* **&#39;-&#39;.join(&#39;There can only one.&#39;.split())**\n",
        "---> 'There-can-only-one.'"
      ],
      "metadata": {
        "id": "wxw71x6KXwAQ"
      }
    },
    {
      "cell_type": "markdown",
      "source": [
        "\n",
        "\n",
        "---\n",
        "\n"
      ],
      "metadata": {
        "id": "AIxpWN-AYjWE"
      }
    },
    {
      "cell_type": "markdown",
      "source": [
        "**Question No.9] What are the methods for right-justifying, left-justifying, and centering a string?**\n",
        "\n",
        "**ANS :**\n",
        "\n",
        "* **Right-Justify: The str.rjust(width, fillchar) method is used to right-justify a string by padding it with a specified character on the left until it reaches the given width.**\n",
        "\n",
        "* **Left-Justify: The str.ljust(width, fillchar) method is used to left-justify a string by padding it with a specified character on the right until it reaches the given width.**\n",
        "\n",
        "* **Center: The str.center(width, fillchar) method is used to center a string within a given width by padding it with a specified character on both sides.**"
      ],
      "metadata": {
        "id": "atUBiNdrYppR"
      }
    },
    {
      "cell_type": "markdown",
      "source": [
        "\n",
        "\n",
        "---\n",
        "\n"
      ],
      "metadata": {
        "id": "Py3U185aZZgT"
      }
    },
    {
      "cell_type": "markdown",
      "source": [
        "**Question No.10] What is the best way to remove whitespace characters from the start or end?**\n",
        "\n",
        "**ANS :In Python, you can use the strip() method to remove whitespace characters from the start and end of a string. The strip() method removes any leading (at the start) and trailing (at the end) whitespace characters, including spaces, tabs, and newline characters.**"
      ],
      "metadata": {
        "id": "c0a06ltHZr7y"
      }
    },
    {
      "cell_type": "markdown",
      "source": [
        "\n",
        "\n",
        "---\n",
        "\n"
      ],
      "metadata": {
        "id": "tMKtVw6caUbh"
      }
    },
    {
      "cell_type": "code",
      "source": [],
      "metadata": {
        "id": "x85c-O2gYapK"
      },
      "execution_count": null,
      "outputs": []
    }
  ]
}